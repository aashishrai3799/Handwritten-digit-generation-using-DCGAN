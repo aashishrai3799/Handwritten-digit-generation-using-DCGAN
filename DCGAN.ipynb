{
  "nbformat": 4,
  "nbformat_minor": 0,
  "metadata": {
    "colab": {
      "name": "DCGAN.ipynb",
      "version": "0.3.2",
      "provenance": [],
      "collapsed_sections": [],
      "toc_visible": true
    },
    "kernelspec": {
      "name": "python3",
      "display_name": "Python 3"
    },
    "accelerator": "GPU"
  },
  "cells": [
    {
      "cell_type": "markdown",
      "metadata": {
        "id": "QVSgXmXrrUpt",
        "colab_type": "text"
      },
      "source": [
        "# Digit Generation using DCGAN"
      ]
    },
    {
      "cell_type": "markdown",
      "metadata": {
        "id": "01EklipMSjvu",
        "colab_type": "text"
      },
      "source": [
        "####install scipy(v1.2)"
      ]
    },
    {
      "cell_type": "code",
      "metadata": {
        "id": "yfLMxXGrSrZ4",
        "colab_type": "code",
        "colab": {}
      },
      "source": [
        "#!pip install scipy==1.2"
      ],
      "execution_count": 0,
      "outputs": []
    },
    {
      "cell_type": "markdown",
      "metadata": {
        "id": "nql7qnvq1KyO",
        "colab_type": "text"
      },
      "source": [
        "###Import Libraries\n",
        "\n",
        "\n",
        "*   tensorflow__1.14\n",
        "*   numpy______1.16.4\n",
        "*   matplotlib___3.0.3\n",
        "*   scipy________1.2.0\n",
        "*   os\n",
        "*   time\n",
        "\n",
        "\n",
        "\n",
        "\n",
        "\n"
      ]
    },
    {
      "cell_type": "code",
      "metadata": {
        "id": "WT0KxurwrUpw",
        "colab_type": "code",
        "colab": {}
      },
      "source": [
        "import tensorflow as tf\n",
        "import numpy as np\n",
        "import matplotlib.pyplot as plt\n",
        "import imageio\n",
        "import os\n",
        "import scipy.misc\n",
        "import scipy\n",
        "import time\n",
        "from tensorflow.examples.tutorials.mnist import input_data"
      ],
      "execution_count": 0,
      "outputs": []
    },
    {
      "cell_type": "markdown",
      "metadata": {
        "id": "Qb9La1d0rUp0",
        "colab_type": "text"
      },
      "source": [
        "###Download and extract MNIST dataset"
      ]
    },
    {
      "cell_type": "code",
      "metadata": {
        "scrolled": true,
        "id": "SpbyPCJ1rUp2",
        "colab_type": "code",
        "colab": {}
      },
      "source": [
        "mnist = input_data.read_data_sets(\"MNIST/data\", one_hot=False)"
      ],
      "execution_count": 0,
      "outputs": []
    },
    {
      "cell_type": "markdown",
      "metadata": {
        "id": "ZNwzr3_mrUqA",
        "colab_type": "text"
      },
      "source": [
        "### Generator\n",
        "\n",
        "*   input: random vector\n",
        "*   output: 32x32 image\n",
        "\n"
      ]
    },
    {
      "cell_type": "code",
      "metadata": {
        "id": "2VtJJ_rzrUqB",
        "colab_type": "code",
        "colab": {}
      },
      "source": [
        "def generator(z):\n",
        "    \n",
        "    \n",
        "    gen = tf.contrib.layers.fully_connected(z,4*4*256,normalizer_fn=tf.contrib.layers.batch_norm,\\\n",
        "        activation_fn=tf.nn.relu,scope='g_project',weights_initializer=initializer)\n",
        "    gen = tf.reshape(gen,[-1,4,4,256])\n",
        "    \n",
        "    \n",
        "    gen1 = tf.layers.conv2d_transpose(gen, 64, 5, 2, padding = 'SAME')\n",
        "    gen1 = tf.nn.relu(gen1)\n",
        "    \n",
        "    gen2 = tf.layers.conv2d_transpose(gen1, 32, 5, 2, padding = 'SAME')\n",
        "    gen2 = tf.nn.relu(gen2)\n",
        "    \n",
        "    gen3 = tf.layers.conv2d_transpose(gen2, 16, 5, 2, padding = 'SAME')\n",
        "    gen3 = tf.nn.relu(gen3)\n",
        "    \n",
        "    g_out = tf.contrib.layers.convolution2d_transpose(\\\n",
        "        gen3,num_outputs=1,kernel_size=[32,32],padding=\"SAME\",\\\n",
        "        biases_initializer=None,activation_fn=tf.nn.tanh,\\\n",
        "        scope='g_out', weights_initializer=initializer)\n",
        "    \n",
        "    return g_out"
      ],
      "execution_count": 0,
      "outputs": []
    },
    {
      "cell_type": "markdown",
      "metadata": {
        "id": "eXFKZOFzrUqE",
        "colab_type": "text"
      },
      "source": [
        "### Discriminator\n",
        "\n",
        "*   input: 32x32 image\n",
        "*   output: probability of being real or fake image\n",
        "\n"
      ]
    },
    {
      "cell_type": "code",
      "metadata": {
        "id": "0T7kCB0zrUqF",
        "colab_type": "code",
        "colab": {}
      },
      "source": [
        "def discriminator(x, reuse=False):\n",
        "    \n",
        "\n",
        "    dis1 = tf.contrib.layers.convolution2d(x, 16, [4,4], stride=[2,2], padding=\"SAME\",\\\n",
        "        biases_initializer=None, activation_fn = tf.nn.leaky_relu,\\\n",
        "        reuse=reuse, scope='d_conv1', weights_initializer=initializer)\n",
        "    \n",
        "    dis2 = tf.contrib.layers.convolution2d(dis1,32,[4,4], stride=[2,2], padding=\"SAME\",\\\n",
        "        normalizer_fn=tf.contrib.layers.batch_norm,activation_fn=tf.nn.leaky_relu,\\\n",
        "        reuse=reuse, scope='d_conv2', weights_initializer=initializer)\n",
        "\n",
        "    dis3 = tf.contrib.layers.convolution2d(dis2,64,[4,4],stride=[2,2],padding=\"SAME\",\\\n",
        "        normalizer_fn=tf.contrib.layers.batch_norm,activation_fn=tf.nn.leaky_relu,\\\n",
        "        reuse=reuse,scope='d_conv3',weights_initializer=initializer)\n",
        "    \n",
        "    d_out = tf.contrib.layers.fully_connected(tf.contrib.layers.flatten(dis3),1,activation_fn=tf.nn.sigmoid,\\\n",
        "        reuse=reuse,scope='d_out', weights_initializer=initializer)\n",
        "    \n",
        "    return d_out"
      ],
      "execution_count": 0,
      "outputs": []
    },
    {
      "cell_type": "markdown",
      "metadata": {
        "id": "wYEicyq4rUqJ",
        "colab_type": "text"
      },
      "source": [
        "### UPDATING VARIABLES"
      ]
    },
    {
      "cell_type": "code",
      "metadata": {
        "id": "IDwxZW46rUqK",
        "colab_type": "code",
        "colab": {}
      },
      "source": [
        "tf.reset_default_graph()\n",
        "z_vector = 100 #Size of z vector used for generator.\n",
        "initializer = tf.truncated_normal_initializer(stddev = 0.02)\n",
        "\n",
        "z_in = tf.placeholder(shape = [None, z_vector], dtype = tf.float32) #Random vector\n",
        "real_in = tf.placeholder(shape = [None, 32, 32, 1], dtype = tf.float32) #Real images\n",
        "\n",
        "Gz = generator(z_in) #Generates images from random z vectors\n",
        "Dx = discriminator(real_in) #Produces probabilities for real images\n",
        "Dg = discriminator(Gz, reuse = True) #Produces probabilities for generator images\n",
        "\n",
        "d_loss = -tf.reduce_mean(tf.log(Dx) + tf.log(1.-Dg)) #This optimizes the discriminator.\n",
        "g_loss = -tf.reduce_mean(tf.log(Dg)) #This optimizes the generator.\n",
        "\n",
        "tvars = tf.trainable_variables()\n",
        "\n",
        "trainerD = tf.train.AdamOptimizer(learning_rate = 0.0002, beta1 = 0.00005)\n",
        "trainerG = tf.train.AdamOptimizer(learning_rate = 0.0002, beta1 = 0.00005)\n",
        "d_grads = trainerD.compute_gradients(d_loss,tvars[9:]) #update the weights for the discriminator network.\n",
        "g_grads = trainerG.compute_gradients(g_loss,tvars[0:9]) #update the weights for the generator network.\n",
        "\n",
        "update_D = trainerD.apply_gradients(d_grads)\n",
        "update_G = trainerG.apply_gradients(g_grads)"
      ],
      "execution_count": 0,
      "outputs": []
    },
    {
      "cell_type": "markdown",
      "metadata": {
        "id": "cL4dS1EceIFM",
        "colab_type": "text"
      },
      "source": [
        "###Save Image Function"
      ]
    },
    {
      "cell_type": "code",
      "metadata": {
        "id": "pJUlfGiueBlW",
        "colab_type": "code",
        "colab": {}
      },
      "source": [
        "def save_images(images, size, path):\n",
        "  images = (images+1.)/2.\n",
        "  h, w = images.shape[1], images.shape[2]\n",
        "  img = np.zeros((h * size[0], w * size[1]))\n",
        "\n",
        "  for ind, image in enumerate(images):\n",
        "    ii = ind % size[1]\n",
        "    jj = ind // size[1]\n",
        "    img[jj * h : jj * h + h, ii * w : ii * w + w] = image\n",
        "\n",
        "  if i % 1000 == 0:    # DISPLAY IMAGE IF EPOCH IS MULTIPLE OG 1000\n",
        "    plt.imshow(img)\n",
        "    plt.show() \n",
        "  return scipy.misc.imsave(path, img) \n"
      ],
      "execution_count": 0,
      "outputs": []
    },
    {
      "cell_type": "markdown",
      "metadata": {
        "id": "Uq-5HnByy-4E",
        "colab_type": "text"
      },
      "source": [
        "### TRAINING NETWORK"
      ]
    },
    {
      "cell_type": "code",
      "metadata": {
        "scrolled": true,
        "id": "6WrRpbugrUqQ",
        "colab_type": "code",
        "colab": {}
      },
      "source": [
        "batch_size = 256                   # Size of image batch to apply at each iteration\n",
        "epochs = 160000                      # Total number of iterations to use\n",
        "sample_directory = './MNIST/figs'   # Directory to save generated sample images\n",
        "model_directory = './MNIST/models'  # Directory to save trained model to\n",
        "\n",
        "init = tf.global_variables_initializer()\n",
        "saver = tf.train.Saver()\n",
        "with tf.Session() as sess:  \n",
        "    sess.run(init)\n",
        "    \n",
        "    t1 = 0      # initializing TIME VARIABLE 1\n",
        "    t2 = 0      # initializing TIME VARIABLE 2\n",
        "    \n",
        "    for i in range(epochs):\n",
        "        zs = np.random.uniform(-1.0, 1.0, size = [batch_size, z_vector]).astype(np.float32) #Generate a random z batch\n",
        "        xs,_ = mnist.train.next_batch(batch_size) #Draw a sample batch from MNIST dataset.\n",
        "        xs = (np.reshape(xs, [batch_size, 28, 28, 1]) - 0.5) * 2.0 #Transform it to be between -1 and 1\n",
        "        xs = np.lib.pad(xs, ((0,0), (2,2), (2,2), (0,0)), 'constant', constant_values=(-1, -1)) #Pad the images so the are 32x32\n",
        "        _,dLoss = sess.run([update_D,d_loss],feed_dict={z_in:zs,real_in:xs}) #Update the discriminator\n",
        "        _,gLoss = sess.run([update_G,g_loss],feed_dict={z_in:zs}) #Update the generator, twice for good measure.\n",
        "        _,gLoss = sess.run([update_G,g_loss],feed_dict={z_in:zs})\n",
        "        \n",
        "        if i % 100 == 0:\n",
        "            t2 = time.time()\n",
        "            print (i, ':  G_Loss: ' + str(gLoss)[:6] + '  D_Loss: ' + str(dLoss)[:6], ' Time:', round((t2-t1), 4), 'sec')\n",
        "            if '0.0' in str(dLoss)[:6] :       # BREAK LOOP IF DLOSS APPROACHES 0.0\n",
        "              break\n",
        "              \n",
        "            z2 = np.random.uniform(-1.0,1.0,size=[batch_size,z_vector]).astype(np.float32) #Generate another z batch\n",
        "            newZ = sess.run(Gz,feed_dict={z_in:z2}) #Use new z to get sample images from generator.\n",
        "            \n",
        "            if not os.path.exists(sample_directory):\n",
        "                os.makedirs(sample_directory)\n",
        "            \n",
        "#  S A V I N G  I M A G E            \n",
        "            if i % 10000 == 0:\n",
        "              save_images(np.reshape(newZ[0:36],[36,32,32]),[6,6],sample_directory + '/fig' + str(i) + '.png')\n",
        "            t1 = time.time()\n",
        "\n",
        "        \n",
        "#  S A V I N G  M O D E L        \n",
        "\n",
        "        if i % 5000 == 0 and i != 0:\n",
        "            if not os.path.exists(model_directory):\n",
        "                os.makedirs(model_directory)\n",
        "            saver.save(sess,model_directory + '/model-' + str(i) + '.cptk')\n",
        "            print (\"Model Saved:\", str(i) + '.cptk')\n",
        "           "
      ],
      "execution_count": 0,
      "outputs": []
    },
    {
      "cell_type": "markdown",
      "metadata": {
        "id": "OSmJIQUWrUqU",
        "colab_type": "text"
      },
      "source": [
        "## Generate Sample Image from Generated Model\n"
      ]
    },
    {
      "cell_type": "code",
      "metadata": {
        "id": "LYlE6dpnrUqV",
        "colab_type": "code",
        "colab": {}
      },
      "source": [
        "path = '/content/MNIST/models'\n",
        "sample_directory = './MNIST/sample_fig' #Directory to save sample images from generator in.\n",
        "model_directory = './MNIST/models' #Directory to load trained model from.\n",
        "batch_size_sample = 36\n",
        "i = 190000\n",
        "init = tf.global_variables_initializer()\n",
        "saver = tf.train.Saver()\n",
        "with tf.Session() as sess:  \n",
        "    sess.run(init)\n",
        "    print ('Loading Model...')\n",
        "    ckpt = tf.train.get_checkpoint_state(path)\n",
        "    saver.restore(sess,ckpt.model_checkpoint_path)\n",
        "    \n",
        "    zs = np.random.uniform(-1.0, 1.0, size = [batch_size_sample, z_vector]).astype(np.float32) #Generate a random z batch\n",
        "    newZ = sess.run(Gz, feed_dict = {z_in:z2}) #Use new z to get sample images from generator.\n",
        "    if not os.path.exists(sample_directory):\n",
        "        os.makedirs(sample_directory)\n",
        "    save_images(np.reshape(newZ[0:batch_size_sample], [36, 32, 32]), [6, 6], sample_directory+'/fig'+str(i)+'.png')"
      ],
      "execution_count": 0,
      "outputs": []
    },
    {
      "cell_type": "code",
      "metadata": {
        "id": "bcwt5MJ0PgIM",
        "colab_type": "code",
        "colab": {}
      },
      "source": [
        ""
      ],
      "execution_count": 0,
      "outputs": []
    }
  ]
}